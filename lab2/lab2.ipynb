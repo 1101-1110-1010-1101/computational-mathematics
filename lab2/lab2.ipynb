{
 "cells": [
  {
   "cell_type": "code",
   "execution_count": 94,
   "metadata": {},
   "outputs": [],
   "source": [
    "import matplotlib.pyplot as plt\n",
    "\n",
    "def build_dots(xs, ys):\n",
    "    plt.plot(xs, ys, 'r')\n",
    "    plt.grid()\n",
    "    plt.show()"
   ]
  },
  {
   "cell_type": "markdown",
   "metadata": {},
   "source": [
    "## Basic approximation funcs"
   ]
  },
  {
   "cell_type": "code",
   "execution_count": 92,
   "metadata": {},
   "outputs": [],
   "source": [
    "import math\n",
    "\n",
    "def linear(xs, k, b):\n",
    "    res = []\n",
    "    for x in xs:\n",
    "        res.append(k*x + b)\n",
    "    return res\n",
    "\n",
    "def polynomial_second_degree(xs, a0, a1, a2):\n",
    "    res = []\n",
    "    for x in xs:\n",
    "        res.append(a0*x**2 + a1*x + a2)\n",
    "    return res\n",
    "\n",
    "def exponent(xs, a, b):\n",
    "    res = []\n",
    "    for x in xs:\n",
    "        res.append(a * math.exp(b*x))\n",
    "    return res\n",
    "\n",
    "def ln(xs, a, b):\n",
    "    res = []\n",
    "    for x in xs:\n",
    "        res.append(a + b*math.log(x))\n",
    "    return res\n",
    "\n",
    "def power(xs, a, b):\n",
    "    res = []\n",
    "    for x in xs:\n",
    "        res.append(a * x**b)\n",
    "    return res"
   ]
  },
  {
   "cell_type": "markdown",
   "metadata": {},
   "source": [
    "## Sums"
   ]
  },
  {
   "cell_type": "code",
   "execution_count": 97,
   "metadata": {},
   "outputs": [],
   "source": [
    "def sx(xs):\n",
    "    res = 0\n",
    "    for x in xs:\n",
    "        res += x\n",
    "    return res\n",
    "\n",
    "def sxx(xs):\n",
    "    res = 0\n",
    "    for x in xs:\n",
    "        res += x**2\n",
    "    return res\n",
    "\n",
    "def sxy(xs, ys):\n",
    "    res = 0\n",
    "    for i in range(len(xs)):\n",
    "        res += xs[i] * ys[i]\n",
    "    return res"
   ]
  },
  {
   "cell_type": "code",
   "execution_count": 98,
   "metadata": {},
   "outputs": [],
   "source": [
    "def linear_approximation(xs, ys):\n",
    "    a = (sxy(xs, ys)*len(xs) - sx(xs)*sx(ys))/(sxx(xs)*len(xs) - sx(xs)**2)\n",
    "    b = (sxx(xs)*sx(ys) - sx(xs)*sxy(xs, ys))/(sxx(xs)*len(xs) - sx(xs)**2)\n",
    "    return [a, b]"
   ]
  },
  {
   "cell_type": "code",
   "execution_count": 99,
   "metadata": {},
   "outputs": [
    {
     "data": {
      "image/png": "[encoded data removed]",
      "text/plain": [
       "<Figure size 432x288 with 1 Axes>"
      ]
     },
     "metadata": {},
     "output_type": "display_data"
    }
   ],
   "source": [
    "import numpy as np\n",
    "\n",
    "xs = np.array([0.2, 0.4, 0.7, 1.2])\n",
    "ys = [3.9, 5.0, 6.2, 10.0]\n",
    "\n",
    "linear_c = linear_approximation(xs, ys)\n",
    "\n",
    "plt.plot(xs, ys, 'ro', xs, linear(xs, linear_c[0], linear_c[1]), 'g--')\n",
    "plt.grid()\n",
    "plt.show()"
   ]
  }
 ],
 "metadata": {
  "kernelspec": {
   "display_name": "Python 3",
   "language": "python",
   "name": "python3"
  },
  "language_info": {
   "codemirror_mode": {
    "name": "ipython",
    "version": 3
   },
   "file_extension": ".py",
   "mimetype": "text/x-python",
   "name": "python",
   "nbconvert_exporter": "python",
   "pygments_lexer": "ipython3",
   "version": "3.6.5"
  }
 },
 "nbformat": 4,
 "nbformat_minor": 2
}
