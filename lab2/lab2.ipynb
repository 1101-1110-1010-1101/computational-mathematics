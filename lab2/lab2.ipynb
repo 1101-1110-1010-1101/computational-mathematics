{
 "cells": [
  {
   "cell_type": "code",
   "execution_count": 1,
   "metadata": {},
   "outputs": [],
   "source": [
    "import matplotlib.pyplot as plt\n",
    "\n",
    "def build_dots(xs, ys):\n",
    "    plt.plot(xs, ys, 'r')\n",
    "    plt.grid()\n",
    "    plt.show()"
   ]
  },
  {
   "cell_type": "markdown",
   "metadata": {},
   "source": [
    "## Basic approximation funcs"
   ]
  },
  {
   "cell_type": "code",
   "execution_count": 2,
   "metadata": {},
   "outputs": [],
   "source": [
    "import math\n",
    "\n",
    "def linear(xs, k, b):\n",
    "    res = []\n",
    "    for x in xs:\n",
    "        res.append(k*x + b)\n",
    "    return res\n",
    "\n",
    "def polynomial_second_degree(xs, a0, a1, a2):\n",
    "    res = []\n",
    "    for x in xs:\n",
    "        res.append(a0*x**2 + a1*x + a2)\n",
    "    return res\n",
    "\n",
    "def exponent(xs, a, b):\n",
    "    res = []\n",
    "    for x in xs:\n",
    "        res.append(a * math.exp(b*x))\n",
    "    return res\n",
    "\n",
    "def ln(xs, a, b):\n",
    "    res = []\n",
    "    for x in xs:\n",
    "        res.append(a * math.log(x, math.exp(1)) + b)\n",
    "    return res\n",
    "\n",
    "def power(xs, a, b):\n",
    "    res = []\n",
    "    for x in xs:\n",
    "        res.append(a*pow(x, b))\n",
    "    return res"
   ]
  },
  {
   "cell_type": "markdown",
   "metadata": {},
   "source": [
    "## Sums and eps"
   ]
  },
  {
   "cell_type": "code",
   "execution_count": 3,
   "metadata": {},
   "outputs": [],
   "source": [
    "def sx(xs):\n",
    "    res = 0\n",
    "    for x in xs:\n",
    "        res += x\n",
    "    return res\n",
    "\n",
    "def sxx(xs):\n",
    "    res = 0\n",
    "    for x in xs:\n",
    "        res += x**2\n",
    "    return res\n",
    "\n",
    "def sxy(xs, ys):\n",
    "    res = 0\n",
    "    for i in range(len(xs)):\n",
    "        res += xs[i] * ys[i]\n",
    "    return res\n",
    "\n",
    "def sxxy(xs, ys):\n",
    "    res = 0\n",
    "    for i in range(len(xs)):\n",
    "        res += xs[i]**2 * ys[i]\n",
    "    return res\n",
    "\n",
    "def pow_n(xs, n):\n",
    "    res = 0\n",
    "    for x in xs:\n",
    "        res += x**n\n",
    "    return res\n",
    "\n",
    "def epsilon(ys1, ys2):\n",
    "    res = []\n",
    "    for i in range(len(ys1)):\n",
    "        res.append(ys1[i] - ys2[i])\n",
    "    return res\n",
    "\n",
    "def standard_deviation(eps):\n",
    "    return sxx(eps)\n",
    "\n",
    "def square_deviation(eps):\n",
    "    return math.sqrt(sxx(eps)/len(eps))"
   ]
  },
  {
   "cell_type": "code",
   "execution_count": 4,
   "metadata": {},
   "outputs": [],
   "source": [
    "def linear_approximation(xs, ys):\n",
    "    a = (sxy(xs, ys)*len(xs) - sx(xs)*sx(ys))/(sxx(xs)*len(xs) - sx(xs)**2)\n",
    "    b = (sxx(xs)*sx(ys) - sx(xs)*sxy(xs, ys))/(sxx(xs)*len(xs) - sx(xs)**2)\n",
    "    return [a, b]\n",
    "\n",
    "# a3, a2, a1\n",
    "def square_approximation(xs, ys):\n",
    "    left = np.array([\n",
    "                     [len(xs), sx(xs), sxx(xs)],\n",
    "                     [sx(xs), sxx(xs), pow_n(xs, 3)],\n",
    "                     [sxx(xs), pow_n(xs, 3), pow_n(xs, 4)]\n",
    "                    ])\n",
    "    right = np.array([sx(ys), sxy(xs, ys), sxxy(xs, ys)])\n",
    "    return np.linalg.solve(left, right)\n",
    "\n",
    "def exponent_approximation(xs, ys):\n",
    "    new_y = np.array([])\n",
    "    for i in ys:\n",
    "        new_y = np.append(new_y, [math.log(i, math.exp(1))])\n",
    "    res = linear_approximation(xs, new_y)\n",
    "    res[0] = math.exp(res[0])\n",
    "    return res\n",
    "\n",
    "def power_approximation(xs, ys):\n",
    "    new_y = np.array([])\n",
    "    for i in ys:\n",
    "        new_y = np.append(new_y, [math.log(i, math.exp(1))])\n",
    "    new_x = np.array([])\n",
    "    for i in xs:\n",
    "        new_x = np.append(new_x, [math.log(i, math.exp(1))])\n",
    "    res = linear_approximation(new_x, new_y)\n",
    "    res[0] = math.exp(res[0])\n",
    "    return res\n",
    "\n",
    "def logarithmic_approximation(xs, ys):\n",
    "    new_x = np.array([])\n",
    "    for i in xs:\n",
    "        new_x = np.append(new_x, [math.log(i, math.exp(1))])\n",
    "    return linear_approximation(new_x, ys)"
   ]
  },
  {
   "cell_type": "code",
   "execution_count": 5,
   "metadata": {},
   "outputs": [],
   "source": [
    "import time\n",
    "from termcolor import cprint\n",
    "\n",
    "def read_from_file(filename):\n",
    "    try:\n",
    "        file = open(filename, 'r')\n",
    "    except:\n",
    "        cprint(\"I don`t see such file. Take another try, Anon, and be more careful\", 'red')\n",
    "        return (None, None)\n",
    "    try:\n",
    "        xs = list(map(float, file.readline().split(' ')))\n",
    "        ys = list(map(float, file.readline().split(' ')))\n",
    "        file.close()\n",
    "    except:\n",
    "        cprint(\"Anon, please, check your file before you bring it here\", 'red')\n",
    "        file.close()\n",
    "        return (None, None)\n",
    "    return (xs, ys)\n",
    "\n",
    "def get_data(xs = None, ys = None, first_time = False):\n",
    "    if (first_time):\n",
    "        print(\"Okay then\\nYou are here to approximate some functions, aren't you?\")\n",
    "        time.sleep(1)\n",
    "        print(\"So, no time to lose\")\n",
    "        time.sleep(1)\n",
    "        \n",
    "    if (xs is None):\n",
    "        print(\"Do you have some file with data?\")\n",
    "        ans = input()\n",
    "        if ans == \"yes\" or ans == \"Y\" or ans == \"y\":\n",
    "            print(\"Good... So, what the file?\")\n",
    "            filename = input()\n",
    "            xs, ys = read_from_file(filename)\n",
    "            if xs == None:\n",
    "                return get_data(None, None, False)\n",
    "            return (xs, ys)\n",
    "    \n",
    "        print(\"Okay, just type some x's for starters:\")\n",
    "        xs = input().split()\n",
    "        try:\n",
    "            for i in range(len(xs)):\n",
    "                xs[i] = float(xs[i])\n",
    "        except:\n",
    "            cprint(\"Didn't you know that values should be represented as floats?\", 'red')\n",
    "            time.sleep(1)\n",
    "            print(\"Lets try again...\")\n",
    "            get_data()\n",
    "\n",
    "\n",
    "    print(\"Next, enter y's. I hope it isn't just random numbers...\")\n",
    "    ys = input().split()\n",
    "    try:\n",
    "        for i in range(len(ys)):\n",
    "            ys[i] = float(ys[i])\n",
    "    except:\n",
    "        cprint(\"Didn't you know that values should be represented as floats?\", 'red')\n",
    "        time.sleep(1)\n",
    "        print(\"Lets try again...\")\n",
    "        get_data(xs)\n",
    "    return (xs, ys)"
   ]
  },
  {
   "cell_type": "code",
   "execution_count": 30,
   "metadata": {},
   "outputs": [
    {
     "name": "stdout",
     "output_type": "stream",
     "text": [
      "Okay then\n",
      "You are here to approximate some functions, aren't you?\n",
      "So, no time to lose\n",
      "Do you have some file with data?\n",
      "y\n",
      "Good... So, what the file?\n",
      "variant13.txt\n",
      "\n",
      "Okay, here is your data:\n",
      "x: [2.0, 2.7, 3.4, 4.1, 4.8, 5.5, 6.2, 6.9, 7.6, 8.3, 9.0];\n",
      "y:[0.22, 1.11, 2.23, 3.34, 4.45, 5.27, 6.41, 7.34, 8.47, 9.5, 10.23]\n",
      "\n",
      "Now we are finally ready to start\n",
      "Give me a minute...\n",
      "\n",
      "You can get your results, Anon\n",
      "\n",
      "---------------Linear approximation---------------\n",
      "phi(x) = 1.458x + -2.696\n",
      "S = 0.106\n"
     ]
    },
    {
     "data": {
      "image/png": "[encoded data removed]",
      "text/plain": [
       "<Figure size 432x288 with 1 Axes>"
      ]
     },
     "metadata": {
      "needs_background": "light"
     },
     "output_type": "display_data"
    },
    {
     "name": "stdout",
     "output_type": "stream",
     "text": [
      "---------------Square approximation---------------\n",
      "phi(x) = -0.011x^2 + 1.584x + -2.986\n",
      "S = 0.079\n"
     ]
    },
    {
     "data": {
      "image/png": "[encoded data removed]",
      "text/plain": [
       "<Figure size 432x288 with 1 Axes>"
      ]
     },
     "metadata": {
      "needs_background": "light"
     },
     "output_type": "display_data"
    },
    {
     "name": "stdout",
     "output_type": "stream",
     "text": [
      "---------------Exponent approximation---------------\n",
      "phi(x) = 1.55 * e^(-1.108x)\n",
      "S = 425.964\n"
     ]
    },
    {
     "data": {
      "image/png": "[encoded data removed]",
      "text/plain": [
       "<Figure size 432x288 with 1 Axes>"
      ]
     },
     "metadata": {
      "needs_background": "light"
     },
     "output_type": "display_data"
    },
    {
     "name": "stdout",
     "output_type": "stream",
     "text": [
      "---------------Logarithm approximation---------------\n",
      "phi(x) = 6.86 + -5.708ln(x)\n",
      "S = 4.355\n"
     ]
    },
    {
     "data": {
      "image/png": "[encoded data removed]",
      "text/plain": [
       "<Figure size 432x288 with 1 Axes>"
      ]
     },
     "metadata": {
      "needs_background": "light"
     },
     "output_type": "display_data"
    },
    {
     "name": "stdout",
     "output_type": "stream",
     "text": [
      "---------------Power approximation---------------\n",
      "phi(x) = 9.704 * x^-2.354\n",
      "S = 412.945\n"
     ]
    },
    {
     "data": {
      "image/png": "[encoded data removed]",
      "text/plain": [
       "<Figure size 432x288 with 1 Axes>"
      ]
     },
     "metadata": {
      "needs_background": "light"
     },
     "output_type": "display_data"
    },
    {
     "name": "stdout",
     "output_type": "stream",
     "text": [
      "Are you ready to face the best approximation function for your data?\n",
      "You, actually, don`t have a choise, just press any button to continue...\n",
      "\n",
      "\u001b[32mSquare approximation is your bro, bro\u001b[0m\n",
      "+-----+-------+--------+--------+----------+-----------+---------+\n",
      "|  X  |   Y   | Linear | Square | Exponent | Logarithm |  Power  |\n",
      "+-----+-------+--------+--------+----------+-----------+---------+\n",
      "| 2.0 |  0.22 |  0.22  | 0.136  |  0.1691  |   -0.954  |  1.899  |\n",
      "| 2.7 |  1.11 | 1.241  | 1.208  |  0.0779  |   1.105   |  0.937  |\n",
      "| 3.4 |  2.23 | 2.262  | 2.268  |  0.0359  |   2.686   |  0.545  |\n",
      "| 4.1 |  3.34 | 3.283  | 3.317  |  0.0165  |    3.97   |  0.351  |\n",
      "| 4.8 |  4.45 | 4.304  | 4.354  |  0.0076  |   5.052   |  0.242  |\n",
      "| 5.5 |  5.27 | 5.325  | 5.381  |  0.0035  |   5.986   |  0.176  |\n",
      "| 6.2 |  6.41 | 6.345  | 6.396  |  0.0016  |   6.807   |  0.132  |\n",
      "| 6.9 |  7.34 | 7.366  |  7.4   |  0.0007  |   7.541   |  0.103  |\n",
      "| 7.6 |  8.47 | 8.387  | 8.393  |  0.0003  |   8.204   |  0.082  |\n",
      "| 8.3 |  9.5  | 9.408  | 9.374  |  0.0002  |   8.808   |  0.067  |\n",
      "| 9.0 | 10.23 | 10.429 | 10.345 |  0.0001  |   9.364   |  0.055  |\n",
      "|  -- |   S   | 0.106  | 0.079  | 425.964  |   4.355   | 412.945 |\n",
      "|  -- |   δ   | 0.098  | 0.085  |  6.223   |   0.629   |  6.127  |\n",
      "|  -- |   a   | 1.458  | -0.011 |   1.55   |    6.86   |  9.704  |\n",
      "|  -- |   b   | -2.696 | 1.584  |  -1.108  |   -5.708  |  -2.354 |\n",
      "|  -- |   c   |   --   | -2.986 |    --    |     --    |    --   |\n",
      "+-----+-------+--------+--------+----------+-----------+---------+\n",
      "Do you want to save result table to some file?\n",
      "y\n",
      "Hmm, then I need to know filename\n",
      "results.txt\n",
      "\u001b[32mSuccesfully writen to 'results.txt'\u001b[0m\n"
     ]
    }
   ],
   "source": [
    "import numpy as np\n",
    "from prettytable import PrettyTable\n",
    "import datetime\n",
    "\n",
    "xs, ys = get_data(None, None, True)\n",
    "\n",
    "print(\"\\nOkay, here is your data:\")\n",
    "print(f\"x: {xs};\\ny:{ys}\")\n",
    "print(\"\\nNow we are finally ready to start\\nGive me a minute...\")\n",
    "\n",
    "plot_x = np.array(np.arange(xs[0] - 1, xs[len(xs) - 1] + 1, step = 0.01))\n",
    "\n",
    "results = []\n",
    "standart_deviations = []\n",
    "print(\"\\nYou can get your results, Anon\")\n",
    "\n",
    "print(\"\\n---------------Linear approximation---------------\")\n",
    "\n",
    "linear_c = linear_approximation(xs, ys)\n",
    "ys_linear = linear(xs, linear_c[0], linear_c[1])\n",
    "results.append(square_deviation(epsilon(ys, ys_linear)))\n",
    "standart_deviations.append(standard_deviation(epsilon(ys, ys_linear)))\n",
    "\n",
    "print(f\"phi(x) = {round(linear_c[0], 3)}x + {round(linear_c[1], 3)}\")\n",
    "print(f\"S = {round(standard_deviation(epsilon(ys, ys_linear)), 3)}\")\n",
    "plt.plot(xs, ys, 'ro',\n",
    "         plot_x, linear(plot_x, linear_c[0], linear_c[1]), 'g--')\n",
    "plt.grid()\n",
    "plt.show()\n",
    "\n",
    "print(\"---------------Square approximation---------------\")\n",
    "\n",
    "square_c = square_approximation(xs, ys)\n",
    "ys_square = polynomial_second_degree(xs, square_c[2], square_c[1], square_c[0])\n",
    "results.append(square_deviation(epsilon(ys, ys_square)))\n",
    "standart_deviations.append(standard_deviation(epsilon(ys, ys_square)))\n",
    "\n",
    "print(f\"phi(x) = {round(square_c[2], 3)}x^2 + {round(square_c[1], 3)}x + {round(square_c[0], 3)}\")\n",
    "print(f\"S = {round(standard_deviation(epsilon(ys, ys_square)), 3)}\")\n",
    "plt.plot(xs, ys, 'ro',\n",
    "         plot_x, polynomial_second_degree(plot_x, square_c[2], square_c[1], square_c[0]), 'b--')\n",
    "plt.grid()\n",
    "plt.show()\n",
    "\n",
    "print(\"---------------Exponent approximation---------------\")\n",
    "\n",
    "exponent_c = exponent_approximation(xs, ys)\n",
    "ys_exponent = exponent(xs, exponent_c[0], exponent_c[1])\n",
    "results.append(square_deviation(epsilon(ys, ys_exponent)))\n",
    "standart_deviations.append(standard_deviation(epsilon(ys, ys_exponent)))\n",
    "\n",
    "print(f\"phi(x) = {round(exponent_c[0], 3)} * e^({round(exponent_c[1], 3)}x)\")\n",
    "print(f\"S = {round(standard_deviation(epsilon(ys, ys_exponent)), 3)}\")\n",
    "plt.plot(xs, ys, 'ro',\n",
    "         plot_x, exponent(plot_x, exponent_c[0], exponent_c[1]), 'y--')\n",
    "plt.grid()\n",
    "plt.show()\n",
    "\n",
    "print(\"---------------Logarithm approximation---------------\")\n",
    "\n",
    "logarithm_c = logarithmic_approximation(xs, ys)\n",
    "ys_logarithm = ln(xs, logarithm_c[0], logarithm_c[1])\n",
    "results.append(square_deviation(epsilon(ys, ys_logarithm)))\n",
    "standart_deviations.append(standard_deviation(epsilon(ys, ys_logarithm)))\n",
    "\n",
    "print(f\"phi(x) = {round(logarithm_c[0], 3)} + {round(logarithm_c[1], 3)}ln(x)\")\n",
    "print(f\"S = {round(standard_deviation(epsilon(ys, ys_logarithm)), 3)}\")\n",
    "plt.plot(xs, ys, 'ro',\n",
    "         plot_x, ln(plot_x, logarithm_c[0], logarithm_c[1]), 'y--')\n",
    "plt.grid()\n",
    "plt.show()\n",
    "\n",
    "print(\"---------------Power approximation---------------\")\n",
    "\n",
    "power_c = power_approximation(xs, ys)\n",
    "ys_power = power(xs, power_c[0], power_c[1])\n",
    "results.append(square_deviation(epsilon(ys, ys_power)))\n",
    "standart_deviations.append(standard_deviation(epsilon(ys, ys_power)))\n",
    "\n",
    "print(f\"phi(x) = {round(power_c[0], 3)} * x^{round(power_c[1], 3)}\")\n",
    "print(f\"S = {round(standard_deviation(epsilon(ys, ys_power)), 3)}\")\n",
    "plt.plot(xs, ys, 'ro',\n",
    "         plot_x, power(plot_x, power_c[0], power_c[1]), 'r--')\n",
    "plt.grid()\n",
    "plt.show()\n",
    "\n",
    "print(\"Are you ready to face the best approximation function for your data?\")\n",
    "print(\"You, actually, don`t have a choise, just press any button to continue...\")\n",
    "input()\n",
    "\n",
    "best = min(results)\n",
    "\n",
    "for i in range(len(results)):\n",
    "    if best == results[i]:\n",
    "        if i == 0:\n",
    "            cprint(\"Linear approximation is the best!\", 'green')\n",
    "        elif i == 1:\n",
    "            cprint(\"Square approximation is your bro, bro\", 'green')\n",
    "        elif i == 2:\n",
    "            cprint(\"Exponent approximation rulez!\", 'green')\n",
    "        elif i == 3:\n",
    "            cprint(\"There is some power in power approximation!\", 'green')\n",
    "        elif i == 4:\n",
    "            cprint(\"Logarithm saved this day!\", 'green')\n",
    "            \n",
    "table = PrettyTable()\n",
    "table.field_names = [\"X\", \"Y\", \"Linear\", \"Square\", \"Exponent\", \"Logarithm\", \"Power\"]\n",
    "for i in range(len(xs)):\n",
    "    table.add_row([xs[i], ys[i], round(ys_linear[i], 3), round(ys_square[i], 3), round(ys_exponent[i], 4), round(ys_logarithm[i], 3), round(ys_power[i], 3)])\n",
    "table.add_row(['--', 'S'] + [round(standart_deviations[i], 3) for i in range(len(standart_deviations))])\n",
    "table.add_row(['--', 'δ'] + [round(results[i], 3) for i in range(len(results))])\n",
    "table.add_row(['--', 'a', round(linear_c[0], 3), round(square_c[2], 3), round(exponent_c[0], 3), round(logarithm_c[0], 3), round(power_c[0], 3)])\n",
    "table.add_row(['--', 'b', round(linear_c[1], 3), round(square_c[1], 3), round(exponent_c[1], 3), round(logarithm_c[1], 3), round(power_c[1], 3)])\n",
    "table.add_row(['--', 'c', '--', round(square_c[0], 3), '--', '--', '--'])\n",
    "print(str(table))\n",
    "print(\"Do you want to save result table to some file?\")\n",
    "ans = input()\n",
    "if ans == \"yes\" or ans == \"Y\" or ans == \"y\":\n",
    "    print(\"Hmm, then I need to know filename\")\n",
    "    filename = input()\n",
    "    file = open(filename, 'a')\n",
    "    file.write(f\"--{datetime.datetime.now()}--\")\n",
    "    file.write(f\"\\n{str(table)}\\n\")\n",
    "    file.close()\n",
    "    cprint(f\"Succesfully writen to '{filename}'\", 'green')"
   ]
  }
 ],
 "metadata": {
  "kernelspec": {
   "display_name": "Python 3",
   "language": "python",
   "name": "python3"
  },
  "language_info": {
   "codemirror_mode": {
    "name": "ipython",
    "version": 3
   },
   "file_extension": ".py",
   "mimetype": "text/x-python",
   "name": "python",
   "nbconvert_exporter": "python",
   "pygments_lexer": "ipython3",
   "version": "3.6.7"
  }
 },
 "nbformat": 4,
 "nbformat_minor": 2
}
