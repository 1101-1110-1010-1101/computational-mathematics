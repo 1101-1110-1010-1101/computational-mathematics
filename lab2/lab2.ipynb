{
 "cells": [
  {
   "cell_type": "code",
   "execution_count": 2,
   "metadata": {},
   "outputs": [],
   "source": [
    "import matplotlib.pyplot as plt\n",
    "\n",
    "def build_dots(xs, ys):\n",
    "    plt.plot(xs, ys, 'r')\n",
    "    plt.grid()\n",
    "    plt.show()"
   ]
  },
  {
   "cell_type": "markdown",
   "metadata": {},
   "source": [
    "## Basic approximation funcs"
   ]
  },
  {
   "cell_type": "code",
   "execution_count": 3,
   "metadata": {},
   "outputs": [],
   "source": [
    "import math\n",
    "\n",
    "def linear(xs, k, b):\n",
    "    res = []\n",
    "    for x in xs:\n",
    "        res.append(k*x + b)\n",
    "    return res\n",
    "\n",
    "def polynomial_second_degree(xs, a0, a1, a2):\n",
    "    res = []\n",
    "    for x in xs:\n",
    "        res.append(a0*x**2 + a1*x + a2)\n",
    "    return res\n",
    "\n",
    "def exponent(xs, a, b):\n",
    "    res = []\n",
    "    for x in xs:\n",
    "        res.append(a * math.exp(b*x))\n",
    "    return res\n",
    "\n",
    "def ln(xs, a, b):\n",
    "    res = []\n",
    "    for x in xs:\n",
    "        res.append(a * math.log(x, math.exp(1)) + b)\n",
    "    return res\n",
    "\n",
    "def power(xs, a, b):\n",
    "    res = []\n",
    "    for x in xs:\n",
    "        res.append(a*pow(x, b))\n",
    "    return res"
   ]
  },
  {
   "cell_type": "markdown",
   "metadata": {},
   "source": [
    "## Sums and eps"
   ]
  },
  {
   "cell_type": "code",
   "execution_count": 4,
   "metadata": {},
   "outputs": [],
   "source": [
    "def sx(xs):\n",
    "    res = 0\n",
    "    for x in xs:\n",
    "        res += x\n",
    "    return res\n",
    "\n",
    "def sxx(xs):\n",
    "    res = 0\n",
    "    for x in xs:\n",
    "        res += x**2\n",
    "    return res\n",
    "\n",
    "def sxy(xs, ys):\n",
    "    res = 0\n",
    "    for i in range(len(xs)):\n",
    "        res += xs[i] * ys[i]\n",
    "    return res\n",
    "\n",
    "def sxxy(xs, ys):\n",
    "    res = 0\n",
    "    for i in range(len(xs)):\n",
    "        res += xs[i]**2 * ys[i]\n",
    "    return res\n",
    "\n",
    "def pow_n(xs, n):\n",
    "    res = 0\n",
    "    for x in xs:\n",
    "        res += x**n\n",
    "    return res\n",
    "\n",
    "def epsilon(ys1, ys2):\n",
    "    res = []\n",
    "    for i in range(len(ys1)):\n",
    "        res.append(ys1[i] - ys2[i])\n",
    "    return res\n",
    "\n",
    "def standard_deviation(eps):\n",
    "    return math.sqrt(sxx(eps)/len(eps))"
   ]
  },
  {
   "cell_type": "code",
   "execution_count": 5,
   "metadata": {},
   "outputs": [],
   "source": [
    "def linear_approximation(xs, ys):\n",
    "    a = (sxy(xs, ys)*len(xs) - sx(xs)*sx(ys))/(sxx(xs)*len(xs) - sx(xs)**2)\n",
    "    b = (sxx(xs)*sx(ys) - sx(xs)*sxy(xs, ys))/(sxx(xs)*len(xs) - sx(xs)**2)\n",
    "    return [a, b]\n",
    "\n",
    "# a3, a2, a1\n",
    "def square_approximation(xs, ys):\n",
    "    left = np.array([[len(xs), sx(xs), sxx(xs)],\n",
    "                             [sx(xs), sxx(xs), pow_n(xs, 3)],\n",
    "                             [sxx(xs), pow_n(xs, 3), pow_n(xs, 4)]])\n",
    "    right = np.array([sx(ys), sxy(xs, ys), sxxy(xs, ys)])\n",
    "    return np.linalg.solve(left, right)\n",
    "\n",
    "def exponent_approximation(xs, ys):\n",
    "    new_y = np.array([])\n",
    "    for i in ys:\n",
    "        new_y = np.append(new_y, [math.log(i, math.exp(1))])\n",
    "    res = linear_approximation(xs, new_y)\n",
    "    res[0] = math.exp(res[0])\n",
    "    return res\n",
    "\n",
    "def power_approximation(xs, ys):\n",
    "    new_y = np.array([])\n",
    "    for i in ys:\n",
    "        new_y = np.append(new_y, [math.log(i, math.exp(1))])\n",
    "    new_x = np.array([])\n",
    "    for i in xs:\n",
    "        new_x = np.append(new_x, [math.log(i, math.exp(1))])\n",
    "    res = linear_approximation(new_x, new_y)\n",
    "    res[0] = math.exp(res[0])\n",
    "    return res\n",
    "\n",
    "def logarithmic_approximation(xs, ys):\n",
    "    new_x = np.array([])\n",
    "    for i in xs:\n",
    "        new_x = np.append(new_x, [math.log(i, math.exp(1))])\n",
    "    return linear_approximation(new_x, ys)"
   ]
  },
  {
   "cell_type": "code",
   "execution_count": 22,
   "metadata": {},
   "outputs": [
    {
     "name": "stdout",
     "output_type": "stream",
     "text": [
      "---------------Linear approximation---------------\n",
      "phi(x) = 1.5890069384215082x + 2.062033824804864\n",
      "S = 1.242388069430062\n"
     ]
    },
    {
     "data": {
      "image/png": "[encoded data removed]",
      "text/plain": [
       "<Figure size 432x288 with 1 Axes>"
      ]
     },
     "metadata": {},
     "output_type": "display_data"
    },
    {
     "name": "stdout",
     "output_type": "stream",
     "text": [
      "---------------Square approximation---------------\n",
      "phi(x) = -0.056091123112573714x^2 + 2.171187675326826x + 1.137940476822263\n",
      "S = 1.1474961300878699\n"
     ]
    },
    {
     "data": {
      "image/png": "[encoded data removed]",
      "text/plain": [
       "<Figure size 432x288 with 1 Axes>"
      ]
     },
     "metadata": {},
     "output_type": "display_data"
    },
    {
     "name": "stdout",
     "output_type": "stream",
     "text": [
      "---------------Exponent approximation---------------\n",
      "phi(x) = 1.2233350777100014 * e^(1.0990857716940792x)\n",
      "S = 26575.517997106086\n"
     ]
    },
    {
     "data": {
      "image/png": "[encoded data removed]",
      "text/plain": [
       "<Figure size 432x288 with 1 Axes>"
      ]
     },
     "metadata": {},
     "output_type": "display_data"
    },
    {
     "name": "stdout",
     "output_type": "stream",
     "text": [
      "---------------Power approximation---------------\n",
      "phi(x) = 2.1054550830260745 * x^1.1511712378355163\n",
      "S = 58.75493711094093\n"
     ]
    },
    {
     "data": {
      "image/png": "[encoded data removed]",
      "text/plain": [
       "<Figure size 432x288 with 1 Axes>"
      ]
     },
     "metadata": {},
     "output_type": "display_data"
    },
    {
     "name": "stdout",
     "output_type": "stream",
     "text": [
      "---------------Logarithm approximation---------------\n",
      "phi(x) = 5.234938703343273 + 3.2407580898837556ln(x)\n",
      "S = 1.75765928359338\n"
     ]
    },
    {
     "data": {
      "image/png": "[encoded data removed]",
      "text/plain": [
       "<Figure size 432x288 with 1 Axes>"
      ]
     },
     "metadata": {},
     "output_type": "display_data"
    }
   ],
   "source": [
    "import numpy as np\n",
    "\n",
    "xs = np.array([0.6, 1.9, 3.1, 5.7, 7.2, 9.9])\n",
    "ys = [2.1, 5.0, 8.6, 9.6, 15.2, 17.0]\n",
    "\n",
    "plot_x = np.array(np.arange(xs[0] - 0.1, xs[len(xs) - 1] + 0.1, step=0.01))\n",
    "\n",
    "print(\"---------------Linear approximation---------------\")\n",
    "\n",
    "linear_c = linear_approximation(xs, ys)\n",
    "ys_linear = linear(xs, linear_c[0], linear_c[1])\n",
    "\n",
    "\n",
    "print(f\"phi(x) = {linear_c[0]}x + {linear_c[1]}\")\n",
    "print(f\"S = {standard_deviation(epsilon(ys, ys_linear))}\")\n",
    "plt.plot(xs, ys, 'ro',\n",
    "         plot_x, linear(plot_x, linear_c[0], linear_c[1]), 'g--')\n",
    "plt.grid()\n",
    "plt.show()\n",
    "\n",
    "print(\"---------------Square approximation---------------\")\n",
    "\n",
    "square_c = square_approximation(xs, ys)\n",
    "ys_square = polynomial_second_degree(xs, square_c[2], square_c[1], square_c[0])\n",
    "\n",
    "print(f\"phi(x) = {square_c[2]}x^2 + {square_c[1]}x + {square_c[0]}\")\n",
    "print(f\"S = {standard_deviation(epsilon(ys, ys_square))}\")\n",
    "plt.plot(xs, ys, 'ro',\n",
    "         plot_x, polynomial_second_degree(plot_x, square_c[2], square_c[1], square_c[0]), 'b--')\n",
    "plt.grid()\n",
    "plt.show()\n",
    "\n",
    "print(\"---------------Exponent approximation---------------\")\n",
    "\n",
    "exponent_c = exponent_approximation(xs, ys)\n",
    "ys_exponent = exponent(xs, exponent_c[0], exponent_c[1])\n",
    "\n",
    "print(f\"phi(x) = {exponent_c[0]} * e^({exponent_c[1]}x)\")\n",
    "print(f\"S = {standard_deviation(epsilon(ys, ys_exponent))}\")\n",
    "plt.plot(xs, ys, 'ro',\n",
    "         plot_x, exponent(plot_x, exponent_c[0], exponent_c[1]), 'y--')\n",
    "plt.grid()\n",
    "plt.show()\n",
    "\n",
    "print(\"---------------Power approximation---------------\")\n",
    "\n",
    "power_c = power_approximation(xs, ys)\n",
    "ys_power = power(xs, power_c[1], power_c[0])\n",
    "\n",
    "print(f\"phi(x) = {power_c[0]} * x^{power_c[1]}\")\n",
    "print(f\"S = {standard_deviation(epsilon(ys, ys_power))}\")\n",
    "plt.plot(xs, ys, 'ro',\n",
    "         plot_x, power(plot_x, power_c[0], power_c[1]), 'r--')\n",
    "plt.grid()\n",
    "plt.show()\n",
    "\n",
    "print(\"---------------Logarithm approximation---------------\")\n",
    "\n",
    "logarithm_c = logarithmic_approximation(xs, ys)\n",
    "ys_logarithm = ln(xs, logarithm_c[0], logarithm_c[1])\n",
    "\n",
    "print(f\"phi(x) = {logarithm_c[0]} + {logarithm_c[1]}ln(x)\")\n",
    "print(f\"S = {standard_deviation(epsilon(ys, ys_logarithm))}\")\n",
    "plt.plot(xs, ys, 'ro',\n",
    "         plot_x, ln(plot_x, logarithm_c[0], logarithm_c[1]), 'y--')\n",
    "plt.grid()\n",
    "plt.show()\n"
   ]
  }
 ],
 "metadata": {
  "kernelspec": {
   "display_name": "Python 3",
   "language": "python",
   "name": "python3"
  },
  "language_info": {
   "codemirror_mode": {
    "name": "ipython",
    "version": 3
   },
   "file_extension": ".py",
   "mimetype": "text/x-python",
   "name": "python",
   "nbconvert_exporter": "python",
   "pygments_lexer": "ipython3",
   "version": "3.6.5"
  }
 },
 "nbformat": 4,
 "nbformat_minor": 2
}
