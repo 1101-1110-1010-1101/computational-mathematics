{
 "cells": [
  {
   "cell_type": "markdown",
   "metadata": {},
   "source": [
    "# Решение нелинейных уравнений (численное) Лекция 1\n",
    "\n",
    "$f(x) = 0$\n",
    "\n",
    "Степень == количество корней\n",
    "\n",
    "Трансцендентные == e, log... -> колько угодно корней\n",
    "\n",
    "## Методы:\n",
    "1. точные\n",
    "2. приближенные => редко\n",
    "\n",
    "## 1. Локализация корней\n",
    "Находим интервал изоляции корня\n",
    "\n",
    "## 2. Уточнение до заданной точности\n",
    "1. графический\n",
    "\n",
    "Строим график, точка пересечения с OX - корень\n",
    "\n",
    "2. аналитический\n",
    "\n",
    "__Теорема__ - если $f(a) * f(b) < 0, sign(f`(x))=const$, то есть один корень\n",
    "\n",
    "__Устойчивость__ - незначительные изменения исходных данных ведут к незначительным изменениям результатов\n",
    "\n",
    "__Сходимость__ - решение задачи сходится к точному решению ($\\lim_{n \\rightarrow \\infty}x_n = x*$)\n",
    "\n",
    "__Скорость сходимости__ - чаще всего количество итераций (линейная, сверхлинейная, квадратичная)\n",
    "\n",
    "## Метод половинного деления\n",
    "Реализация ниже\n",
    "\n",
    "Применяем для точного решения, довольно медленный\n",
    "\n",
    "Если несколько корней выберется рандомный. Проверяем первую производную\n",
    "\n",
    "$$x_i = \\frac{a_i + b_i}{2}$$\n",
    "\n",
    "## Метод хорд\n",
    "1. Соединяем ab хордой, получим абсциссу ($x_0$)\n",
    "2. Уточняем интервал\n",
    "\n",
    "Рабочая математика $$\\frac{(y-f(a)}{f(b)-f(a)}=\\frac{x-a}{b-a}$$\n",
    "\n",
    "$x_n=\\frac{a_nf(b_n)}{}$\n",
    "\n",
    "## Метод Ньютона (качательной)\n",
    "1. Заменяем отрезок касательной\n",
    "2. Пересечение с OX - $x_0$, очередное приближение\n",
    "\n",
    "Математика: $$x_n=x_{n-1}-\\frac{f(x_0)}{f`(x_0)}$$\n",
    "\n",
    "### Условия:\n",
    "1. Функция определена и непрерывна\n",
    "2. __Теорема1__ выполняется\n",
    "3. $sing(f`(x)), sign(f``(x)) == const$\n",
    "4. $f`(x) \\neq 0$\n",
    "5. Первое приближение: $f(x)*f``(x)>0$\n",
    "\n",
    "## Метод секущих\n",
    "Математика: $$x_{i+1}=x_i-\\frac{x_i - x_{i-1}}{f(x_i) - f(x_{i-1})}f(x_i)i$$\n",
    "\n",
    "__ДЗ: метод простых итераций__\n",
    "\n",
    "__Лаба: метод Ньютона и половинного__"
   ]
  },
  {
   "cell_type": "code",
   "execution_count": 1,
   "metadata": {},
   "outputs": [],
   "source": [
    "def half(a, b, eps, i = 1, iter_meta = [[\"i\", \"a\", \"b\", \"x\", \"f(a)\", \"f(b)\", \"f(x)\", \"len\"]]):\n",
    "  x_0 = (a + b)/2\n",
    "\n",
    "  l = interval_len(a, b)\n",
    "\n",
    "  iter_meta.append([i,round(a, 3),round(b, 3),round(x_0, 3),round(fun(a), 3),round(fun(b), 3),round(fun(x_0), 3),round(l, 3)])\n",
    "\n",
    "  if abs(fun(x_0)) <= eps:\n",
    "    return [x_0, fun(x_0), i, iter_meta]\n",
    "\n",
    "  if validate(a, x_0):\n",
    "    return half(a, x_0, eps, i + 1, iter_meta)\n",
    "  else:\n",
    "    return half(x_0, b, eps, i + 1, iter_meta)"
   ]
  },
  {
   "cell_type": "code",
   "execution_count": 2,
   "metadata": {},
   "outputs": [],
   "source": [
    "def derivative(x, coef_0 = 1, coef_1 = 4.81, coef_2 = -17.37):\n",
    "    return fun(x, 0, 3*coef_0, 2*coef_1, coef_2)\n",
    "\n",
    "def second_deriative(x, coef_0 = 1, coef_1 = 4.81, coef_2 = -17.37):\n",
    "    return fun(x, 0, 0, 6*coef_0, 2*coef_1)\n"
   ]
  },
  {
   "cell_type": "code",
   "execution_count": 3,
   "metadata": {},
   "outputs": [],
   "source": [
    "def newton(x_0, eps, iter_meta = []):\n",
    "    i = 1\n",
    "    if (abs(derivative(x_0)) < eps):\n",
    "        return None\n",
    "    x = x_0 - (fun(x_0)/derivative(x_0))\n",
    "    while (abs(fun(x_0)) > eps):\n",
    "        i += 1\n",
    "        x = x_0 - (fun(x_0)/derivative(x_0))\n",
    "        iter_meta.append([i, round(x_0, 3), round(fun(x_0), 3), round(derivative(x_0), 3), round(x, 3), round(abs(x_0 - x), 3)])\n",
    "        x_0 = x\n",
    "    return [x_0, fun(x_0), iter_meta, i]"
   ]
  },
  {
   "cell_type": "code",
   "execution_count": 4,
   "metadata": {},
   "outputs": [],
   "source": [
    "def build_plot():\n",
    "    x = np.array(np.arange(-8, 3, step=0.0001))\n",
    "    y = (x**3) + (4.81 * x**2) - (17.37 * x) + 5.38\n",
    "    plt.plot(x, y)\n",
    "    plt.grid()\n",
    "    plt.show()"
   ]
  },
  {
   "cell_type": "code",
   "execution_count": 5,
   "metadata": {},
   "outputs": [],
   "source": [
    "def fun(x, coef_0 = 1, coef_1 = 4.81, coef_2 = -17.37, coef_3 = 5.38):\n",
    "    return (coef_0 * x**3) + (coef_1 * x**2) + (coef_2 * x) + coef_3"
   ]
  },
  {
   "cell_type": "code",
   "execution_count": 6,
   "metadata": {},
   "outputs": [],
   "source": [
    "def validate(a, b):\n",
    "    if fun(a)*fun(b) < 0:\n",
    "        return True\n",
    "    else: return False"
   ]
  },
  {
   "cell_type": "code",
   "execution_count": 7,
   "metadata": {},
   "outputs": [],
   "source": [
    "def interval_len(a, b):\n",
    "    if a < 0 and b > 0:\n",
    "        l = b + abs(a)\n",
    "    elif a < 0 and b < 0:\n",
    "        l = abs(a) - abs(b)\n",
    "    else: l = b - a\n",
    "    return l"
   ]
  },
  {
   "cell_type": "code",
   "execution_count": 8,
   "metadata": {},
   "outputs": [],
   "source": [
    "def parse_file(in_file):\n",
    "    out = {}\n",
    "    file = open(in_file, 'r')\n",
    "    for line in file:\n",
    "        line = line.rstrip()\n",
    "        temp = line.split('=', maxsplit=1)\n",
    "        out[temp[0]] = temp[1]\n",
    "    return out"
   ]
  },
  {
   "cell_type": "code",
   "execution_count": 9,
   "metadata": {},
   "outputs": [],
   "source": [
    "def enter_by_hands(a = None, b = None, eps = None, initial_approximation = None):\n",
    "    try:\n",
    "        if (a is None):\n",
    "            print(\"Enter parameter 'a':\")\n",
    "            a = float(input())\n",
    "    except:\n",
    "        cprint(\"Values should be represented as numbers\", 'red')\n",
    "        return enter_by_hands()\n",
    "        \n",
    "    try:\n",
    "        if (b is None):\n",
    "            print(\"Enter parameter 'b':\")\n",
    "            b = float(input())\n",
    "    except:\n",
    "        cprint(\"Values should be represented as numbers\", 'red')\n",
    "        return enter_by_hands(a)\n",
    "    \n",
    "    try:\n",
    "        if (eps is None):\n",
    "            print(\"Enter parameter 'eps':\")\n",
    "            eps = float(input())\n",
    "    except:\n",
    "        cprint(\"Values should be represented as numbers\", 'red')\n",
    "        return enter_by_hands(a, b)\n",
    "    \n",
    "    try:\n",
    "        print(\"Enter the initial approximation value:\")\n",
    "        initial_approximation = float(input())\n",
    "    except:\n",
    "        cprint(\"Values should be represented as numbers\", 'red')\n",
    "        return enter_by_hands(a, b, eps)\n",
    "    \n",
    "    return [a, b, eps, initial_approximation]\n",
    "    "
   ]
  },
  {
   "cell_type": "code",
   "execution_count": null,
   "metadata": {},
   "outputs": [
    {
     "data": {
      "text/plain": [
       "<Figure size 640x480 with 1 Axes>"
      ]
     },
     "metadata": {},
     "output_type": "display_data"
    },
    {
     "name": "stdout",
     "output_type": "stream",
     "text": [
      "Would you like to load settings from a file? [Y/n]\n",
      "n\n",
      "Enter parameter 'a':\n",
      "2\n",
      "Enter parameter 'b':\n",
      "3\n",
      "Enter parameter 'eps':\n",
      "0.01\n",
      "Enter the initial approximation value:\n",
      "2\n",
      "\n",
      "-------------------------------------Results-------------------------------------\n",
      "1. Half dividing: x = 2.1376953125, f(x) = -0.0025977225, 10 iterations\n",
      "2. Newton: x = 2.137995782478928, f(x) = 0.002482390999789, 3 iterations\n",
      "---------------------------------------------------------------------------------\n",
      "Would you like to see computational listings? [Y/n]\n",
      "\n",
      "\n",
      "Half-dividing method\n"
     ]
    },
    {
     "data": {
      "text/html": [
       "<table>\n",
       "<tbody>\n",
       "<tr><td>i </td><td>a    </td><td>b    </td><td>x    </td><td>f(a)  </td><td>f(b) </td><td>f(x)  </td><td>len  </td></tr>\n",
       "<tr><td>1 </td><td>2.0  </td><td>3.0  </td><td>2.5  </td><td>-2.12 </td><td>23.56</td><td>7.642 </td><td>1.0  </td></tr>\n",
       "<tr><td>2 </td><td>2.0  </td><td>2.5  </td><td>2.25 </td><td>-2.12 </td><td>7.642</td><td>2.039 </td><td>0.5  </td></tr>\n",
       "<tr><td>3 </td><td>2.0  </td><td>2.25 </td><td>2.125</td><td>-2.12 </td><td>2.039</td><td>-0.215</td><td>0.25 </td></tr>\n",
       "<tr><td>4 </td><td>2.125</td><td>2.25 </td><td>2.188</td><td>-0.215</td><td>2.039</td><td>0.867 </td><td>0.125</td></tr>\n",
       "<tr><td>5 </td><td>2.125</td><td>2.188</td><td>2.156</td><td>-0.215</td><td>0.867</td><td>0.315 </td><td>0.062</td></tr>\n",
       "<tr><td>6 </td><td>2.125</td><td>2.156</td><td>2.141</td><td>-0.215</td><td>0.315</td><td>0.047 </td><td>0.031</td></tr>\n",
       "<tr><td>7 </td><td>2.125</td><td>2.141</td><td>2.133</td><td>-0.215</td><td>0.047</td><td>-0.085</td><td>0.016</td></tr>\n",
       "<tr><td>8 </td><td>2.133</td><td>2.141</td><td>2.137</td><td>-0.085</td><td>0.047</td><td>-0.019</td><td>0.008</td></tr>\n",
       "<tr><td>9 </td><td>2.137</td><td>2.141</td><td>2.139</td><td>-0.019</td><td>0.047</td><td>0.014 </td><td>0.004</td></tr>\n",
       "<tr><td>10</td><td>2.137</td><td>2.139</td><td>2.138</td><td>-0.019</td><td>0.014</td><td>-0.003</td><td>0.002</td></tr>\n",
       "</tbody>\n",
       "</table>"
      ],
      "text/plain": [
       "<IPython.core.display.HTML object>"
      ]
     },
     "metadata": {},
     "output_type": "display_data"
    },
    {
     "name": "stdout",
     "output_type": "stream",
     "text": [
      "\n",
      "Newton method\n"
     ]
    },
    {
     "data": {
      "text/html": [
       "<table>\n",
       "<tbody>\n",
       "<tr><td>i</td><td>x_i  </td><td>f(x_i)</td><td>f'(x_i)</td><td>x_(i+1)</td><td>|x_i - x_(i+1)|</td></tr>\n",
       "<tr><td>2</td><td>2.0  </td><td>-2.12 </td><td>13.87  </td><td>2.153  </td><td>0.153          </td></tr>\n",
       "<tr><td>3</td><td>2.153</td><td>0.256 </td><td>17.245 </td><td>2.138  </td><td>0.015          </td></tr>\n",
       "</tbody>\n",
       "</table>"
      ],
      "text/plain": [
       "<IPython.core.display.HTML object>"
      ]
     },
     "metadata": {},
     "output_type": "display_data"
    },
    {
     "name": "stdout",
     "output_type": "stream",
     "text": [
      "Save result to the file? [Y/n]\n"
     ]
    }
   ],
   "source": [
    "# Importing computational modules\n",
    "from IPython.display import HTML, display\n",
    "import tabulate\n",
    "import numpy as np\n",
    "import matplotlib.pyplot as plt\n",
    "from termcolor import cprint\n",
    "\n",
    "def main(repeat = False):\n",
    "    if (not repeat):\n",
    "        # Building a plot\n",
    "        build_plot()\n",
    "\n",
    "    # Main program\n",
    "    print(\"Would you like to load settings from a file? [Y/n]\")\n",
    "    res = input()\n",
    "    if res == \"\" or res == \"Y\" or res == \"y\":\n",
    "        args = {}\n",
    "        print(\"Please, enter file name:\")\n",
    "        file = input()\n",
    "        try:\n",
    "            args = parse_file(file)\n",
    "        except:\n",
    "            cprint(\"No such file\", 'red')\n",
    "            return main(True)\n",
    "        try:\n",
    "            a = float(args.get('--a'))\n",
    "            b = float(args.get('--b'))\n",
    "            eps = float(args.get('--eps'))\n",
    "            initial_approximation = float(args.get('--i'))\n",
    "            cprint(f\"Succesfully loaded from '{file}': a = {a}, b = {b}, eps = {eps}, initial approximation = {initial_approximation}\", 'green')\n",
    "        except:\n",
    "            cprint(\"Values should be represented as numbers\", 'red')\n",
    "            return main(True)\n",
    "        if a is None or b is None or eps is None:\n",
    "            cprint(\"File should contain '--a', '--b', '--i' and '--eps' keys\", 'red')\n",
    "            return main(True)\n",
    "    else:\n",
    "        res = enter_by_hands()\n",
    "        a = res[0]\n",
    "        b = res[1]\n",
    "        eps = res[2]\n",
    "        initial_approximation = res[3]\n",
    "    \n",
    "    if interval_len(a, b) < 0:\n",
    "        cprint(\"Negative interval lenght\", 'red')\n",
    "        return main(True)\n",
    "    if not validate(a, b):\n",
    "        cprint(\"Interval should contain one root\", 'red')\n",
    "        return main(True)\n",
    "\n",
    "    iter_meta = [[\"i\", \"a\", \"b\", \"x\", \"f(a)\", \"f(b)\", \"f(x)\", \"len\"]]\n",
    "    half_div_res = half(a, b, eps, 1, iter_meta)\n",
    "    iter_meta = [[\"i\", \"x_i\", \"f(x_i)\", \"f'(x_i)\", \"x_(i+1)\", \"|x_i - x_(i+1)|\"]]\n",
    "    newton_res = newton(initial_approximation, eps, iter_meta)\n",
    "\n",
    "    print('\\n-------------------------------------Results-------------------------------------')\n",
    "    print(f\"1. Half dividing: x = {half_div_res[0]}, f(x) = {half_div_res[1]:.10f}, {half_div_res[2]} iterations\")\n",
    "    print(f\"2. Newton: x = {newton_res[0]}, f(x) = {newton_res[1]:.15f}, {newton_res[3]} iterations\")\n",
    "    print('---------------------------------------------------------------------------------')\n",
    "\n",
    "    print(\"Would you like to see computational listings? [Y/n]\")\n",
    "    res = input()\n",
    "    if res == \"\" or res == \"Y\" or res == \"y\":\n",
    "        print(\"\\nHalf-dividing method\")\n",
    "        display(HTML(tabulate.tabulate(half_div_res[3], tablefmt='html')))\n",
    "        print(\"\\nNewton method\")\n",
    "        display(HTML(tabulate.tabulate(newton_res[2], tablefmt='html')))\n",
    "    \n",
    "    print(\"Save result to the file? [Y/n]\")\n",
    "    res = input()\n",
    "    if res == \"\" or res == \"Y\" or res == \"y\":\n",
    "        print(\"Enter file name:\")\n",
    "        file_name = input()\n",
    "        try:\n",
    "            file = open(file_name, 'a')\n",
    "            file.write(\"-------------------------------------Results-------------------------------------\\n\")\n",
    "            file.write(f\"1. Half dividing: x = {half_div_res[0]}, f(x) = {half_div_res[1]:.10f}, {half_div_res[2]} iterations\\n\")\n",
    "            file.write(f\"2. Newton: x = {newton_res[0]}, f(x) = {newton_res[1]:.15f}, {newton_res[2]} iterations\\n\")\n",
    "            file.write(\"---------------------------------------------------------------------------------\\n\")\n",
    "            file.close()\n",
    "            cprint(\"Succesfully written\", 'green')\n",
    "        except:\n",
    "            cprint(\"I/O error\", 'red')\n",
    "        \n",
    "        \n",
    "main()"
   ]
  }
 ],
 "metadata": {
  "kernelspec": {
   "display_name": "Python 3",
   "language": "python",
   "name": "python3"
  },
  "language_info": {
   "codemirror_mode": {
    "name": "ipython",
    "version": 3
   },
   "file_extension": ".py",
   "mimetype": "text/x-python",
   "name": "python",
   "nbconvert_exporter": "python",
   "pygments_lexer": "ipython3",
   "version": "3.6.5"
  }
 },
 "nbformat": 4,
 "nbformat_minor": 2
}
