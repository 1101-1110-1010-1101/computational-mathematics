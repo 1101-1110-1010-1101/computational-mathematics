{
 "cells": [
  {
   "cell_type": "code",
   "execution_count": 114,
   "metadata": {},
   "outputs": [],
   "source": [
    "import math\n",
    "\n",
    "def f_1(x):\n",
    "    return 4 * x**2 + 5 * x\n",
    "\n",
    "def f_4(x):\n",
    "    return math.sqrt(((x**2) * (3 + x)) / (3 - x))"
   ]
  },
  {
   "cell_type": "code",
   "execution_count": 115,
   "metadata": {},
   "outputs": [
    {
     "name": "stdout",
     "output_type": "stream",
     "text": [
      "(0.6297279978522327, 16384)\n",
      "(0.629814314597983, 16384)\n",
      "(0.6297710058007329, 512)\n",
      "(0.6297714561942009, 512)\n",
      "(0.6297711616703385, 32)\n"
     ]
    }
   ],
   "source": [
    "import sys\n",
    "\n",
    "def left_rectangles(a, b, f, n = 4, old_res = sys.maxsize, eps = 10**-6):\n",
    "    res = sum([f(a + (i * ((b - a) / n))) * ((b - a) / n) for i in range(0, n)])\n",
    "    if abs(old_res - res) <= eps or (n > 10000):\n",
    "        return (res, n)\n",
    "    else:\n",
    "        return left_rectangles(a, b, f, n * 2, res)\n",
    "\n",
    "def right_rectangles(a, b, f, n = 4, old_res = sys.maxsize, eps = 10**-6):\n",
    "    res = sum([f(a + (i * ((b - a) / n))) * ((b - a) / n) for i in range(1, n + 1)])\n",
    "    if abs(old_res - res) <= eps or (n > 10000):\n",
    "        return (res, n)\n",
    "    else:\n",
    "        return right_rectangles(a, b, f, n * 2, res)\n",
    "\n",
    "def middle_rectangles(a, b, f, n = 4, old_res = sys.maxsize, eps = 10**-6):\n",
    "    res = sum([f(a + ((i - 1) * (b - a) / n) + ((b - a) / (2 * n))) * ((b - a) / n) for i in range(1, n + 1)])\n",
    "    if abs(old_res - res) <= eps or (n > 10000):\n",
    "        return (res, n)\n",
    "    else:\n",
    "        return middle_rectangles(a, b, f, n * 2, res)\n",
    "\n",
    "def trapezoid(a, b, f, n = 4, old_res = sys.maxsize, eps = 10**-6):\n",
    "    res = sum([((f(a + ((i - 1) * (b - a) / n)) + f(a + (i * (b - a) / n))) / 2) * ((b - a) / n) for i in range(1, n + 1)])\n",
    "    if abs(old_res - res) <= eps or (n > 10000):\n",
    "        return (res, n)\n",
    "    else:\n",
    "        return trapezoid(a, b, f, n * 2, res)\n",
    "    \n",
    "def simpson(a, b, f, n = 4, old_res = sys.maxsize, eps = 10**-6):\n",
    "    res = ((b - a) / (3 * n)) * (f(a) + 4 * sum([(f(a + (((b - a) / n) * i))) for i in range(1, n, 2)]) + 2 * sum([(f(a + (((b - a) / n) * i))) for i in range(2, n, 2)]) + f(b))\n",
    "    if abs(old_res - res) <= eps:\n",
    "        return (res, n)\n",
    "    else:\n",
    "        return simpson(a, b, f, n * 2, res)\n",
    "    \n",
    "print(left_rectangles(0, 1, f_4))\n",
    "print(right_rectangles(0, 1, f_4))\n",
    "print(middle_rectangles(0, 1, f_4))\n",
    "print(trapezoid(0, 1, f_4))\n",
    "print(simpson(0, 1, f_4))"
   ]
  }
 ],
 "metadata": {
  "kernelspec": {
   "display_name": "Python 3",
   "language": "python",
   "name": "python3"
  },
  "language_info": {
   "codemirror_mode": {
    "name": "ipython",
    "version": 3
   },
   "file_extension": ".py",
   "mimetype": "text/x-python",
   "name": "python",
   "nbconvert_exporter": "python",
   "pygments_lexer": "ipython3",
   "version": "3.6.7"
  }
 },
 "nbformat": 4,
 "nbformat_minor": 2
}
