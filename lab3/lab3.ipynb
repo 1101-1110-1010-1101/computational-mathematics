{
 "cells": [
  {
   "cell_type": "code",
   "execution_count": 34,
   "metadata": {},
   "outputs": [],
   "source": [
    "def linear_interpolation(xs, ys, x):\n",
    "    \n",
    "    x_i = min([d for d in xs if d > x])\n",
    "    x_i_minus_1 = xs[np.where(xs == x_i)[0][0] - 1]\n",
    "    y_i = ys[np.where(xs == x_i)[0][0]]\n",
    "    y_i_minus_1 = ys[np.where(xs == x_i_minus_1)[0][0]]\n",
    "    \n",
    "    plot_x = np.array(np.arange(x_i_minus_1, x_i, step = 0.001))\n",
    "    a_i = (y_i - y_i_minus_1) / (x_i - x_i_minus_1)\n",
    "    b_i = y_i_minus_1 - a_i * x_i_minus_1\n",
    "    plt.plot(xs, ys, 'ro',\n",
    "            plot_x, [a_i * x + b_i for x in plot_x], '--')\n",
    "    plt.grid()\n",
    "    plt.show()"
   ]
  },
  {
   "cell_type": "code",
   "execution_count": 36,
   "metadata": {},
   "outputs": [
    {
     "data": {
      "image/png": "[encoded data removed]",
      "text/plain": [
       "<Figure size 432x288 with 1 Axes>"
      ]
     },
     "metadata": {
      "needs_background": "light"
     },
     "output_type": "display_data"
    }
   ],
   "source": [
    "import matplotlib.pyplot as plt\n",
    "import numpy as np\n",
    "\n",
    "xs1 = np.array([0.298, 0.303, 0.310, 0.317, 0.323, 0.330, 0.339])\n",
    "ys1 = np.array([3.2557, 3.1764, 3.1218, 3.0482, 2.9875, 2.9195, 2.8359])\n",
    "\n",
    "linear_interpolation(xs1, ys1, 0.315)"
   ]
  }
 ],
 "metadata": {
  "kernelspec": {
   "display_name": "Python 3",
   "language": "python",
   "name": "python3"
  },
  "language_info": {
   "codemirror_mode": {
    "name": "ipython",
    "version": 3
   },
   "file_extension": ".py",
   "mimetype": "text/x-python",
   "name": "python",
   "nbconvert_exporter": "python",
   "pygments_lexer": "ipython3",
   "version": "3.6.7"
  }
 },
 "nbformat": 4,
 "nbformat_minor": 2
}
