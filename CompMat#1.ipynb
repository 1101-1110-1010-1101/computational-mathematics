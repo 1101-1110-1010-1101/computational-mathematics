{
 "cells": [
  {
   "cell_type": "markdown",
   "metadata": {},
   "source": [
    "# Решение нелинейных уравнений (численное) Лекция 1\n",
    "\n",
    "$f(x) = 0$\n",
    "\n",
    "Степень == количество корней\n",
    "\n",
    "Трансцендентные == e, log... -> колько угодно корней\n",
    "\n",
    "## Методы:\n",
    "1. точные\n",
    "2. приближенные => редко\n",
    "\n",
    "## 1. Локализация корней\n",
    "Находим интервал изоляции корня\n",
    "\n",
    "## 2. Уточнение до заданной точности\n",
    "1. графический\n",
    "\n",
    "Строим график, точка пересечения с OX - корень\n",
    "\n",
    "2. аналитический\n",
    "\n",
    "__Теорема__ - если $f(a) * f(b) < 0, sign(f`(x))=const$, то есть один корень\n",
    "\n",
    "__Устойчивость__ - незначительные изменения исходных данных ведут к незначительным изменениям результатов\n",
    "\n",
    "__Сходимость__ - решение задачи сходится к точному решению ($\\lim_{n \\rightarrow \\infty}x_n = x*$)\n",
    "\n",
    "__Скорость сходимости__ - чаще всего количество итераций (линейная, сверхлинейная, квадратичная)\n",
    "\n",
    "## Метод половинного деления\n",
    "Реализация ниже\n",
    "\n",
    "Применяем для точного решения, довольно медленный\n",
    "\n",
    "Если несколько корней выберется рандомный. Проверяем первую производную\n",
    "\n",
    "## Метод хорд\n",
    "1. Соединяем ab хордой, получим абсциссу ($x_0$)\n",
    "2. Уточняем интервал\n",
    "\n",
    "Рабочая математика $$\\frac{(y-f(a)}{f(b)-f(a)}=\\frac{x-a}{b-a}$$\n",
    "\n",
    "$x_n=\\frac{a_nf(b_n)}{}$\n",
    "\n",
    "## Метод Ньютона (качательной)\n",
    "1. Заменяем отрезок касательной\n",
    "2. Пересечение с OX - $x_0$, очередное приближение\n",
    "\n",
    "Математика: $$x_n=x_{n-1}-\\frac{f(x_0)}{f`(x_0)}$$\n",
    "\n",
    "### Условия:\n",
    "1. Функция определена и непрерывна\n",
    "2. __Теорема1__ выполняется\n",
    "3. $sing(f`(x)), sign(f``(x)) == const$\n",
    "4. $f`(x) \\neq 0$\n",
    "5. Первое приближение: $f(x)*f``(x)>0$\n",
    "\n",
    "## Метод секущих\n",
    "Математика: $$x_{i+1}=x_i-\\frac{x_i - x_{i-1}}{f(x_i) - f(x_{i-1})}f(x_i)i$$\n",
    "\n",
    "__ДЗ: метод простых итераций__\n",
    "\n",
    "__Лаба: метод Ньютона и половинного__"
   ]
  },
  {
   "cell_type": "code",
   "execution_count": 1,
   "metadata": {},
   "outputs": [],
   "source": [
    "def function(x):\n",
    "    return (x**3) + (4.81 * x**2) - (17.37 * x) + 5.38"
   ]
  },
  {
   "cell_type": "code",
   "execution_count": 2,
   "metadata": {},
   "outputs": [],
   "source": [
    "def validate(a, b):\n",
    "    if function(a)*function(b) < 0:\n",
    "        return True\n",
    "    else: return False"
   ]
  },
  {
   "cell_type": "code",
   "execution_count": 3,
   "metadata": {},
   "outputs": [],
   "source": [
    "# TODO: b-a<=eps; f`\n",
    "def half(a, b, eps, i = 0):\n",
    "    \n",
    "    x_0 = (a + b)/2\n",
    "    \n",
    "    if a < 0 and b > 0:\n",
    "        l = b + abs(a)\n",
    "    elif a < 0 and b < 0:\n",
    "        l = abs(a) - abs(b)\n",
    "    else: l = b - a\n",
    "    if abs(function(x_0)) <= eps:\n",
    "        return [x_0, function(x_0), i]   \n",
    "    i += 1\n",
    "    if validate(a, x_0):\n",
    "        return half(a, x_0, eps, i)\n",
    "    else:\n",
    "        return half(x_0, b, eps, i)        \n",
    "        "
   ]
  },
  {
   "cell_type": "code",
   "execution_count": 6,
   "metadata": {},
   "outputs": [
    {
     "name": "stdout",
     "output_type": "stream",
     "text": [
      "Введите a:\n",
      "-8\n",
      "Введите b:\n",
      "-7\n",
      "Введите eps:\n",
      "0.000000001\n",
      "x = -7.292916440666886, f(x) = 0.0000000009, итераций 34\n",
      "73.8 µs ± 686 ns per loop (mean ± std. dev. of 7 runs, 10000 loops each)\n"
     ]
    }
   ],
   "source": [
    "print('Введите a:')\n",
    "a = float(input())\n",
    "print('Введите b:')\n",
    "b = float(input())\n",
    "print('Введите eps:')\n",
    "eps = float(input())\n",
    "\n",
    "res = half(a, b, eps)\n",
    "print(f\"x = {res[0]}, f(x) = {res[1]:.10f}, итераций {res[2]}\")\n",
    "%timeit half(a, b, eps)"
   ]
  },
  {
   "cell_type": "code",
   "execution_count": 4,
   "metadata": {},
   "outputs": [
    {
     "data": {
      "image/png": "[encoded data removed]",
      "text/plain": [
       "<Figure size 432x288 with 1 Axes>"
      ]
     },
     "metadata": {},
     "output_type": "display_data"
    }
   ],
   "source": [
    "%matplotlib inline\n",
    "\n",
    "import numpy as np\n",
    "import matplotlib.pyplot as plt\n",
    "\n",
    "x = np.array(np.arange(-20, 20, step=0.1))\n",
    "y = (x**3) + (4.81 * x**2) - (17.37 * x) + 5.38\n",
    "plt.plot(x, y)\n",
    "plt.show()"
   ]
  }
 ],
 "metadata": {
  "kernelspec": {
   "display_name": "Python 3",
   "language": "python",
   "name": "python3"
  },
  "language_info": {
   "codemirror_mode": {
    "name": "ipython",
    "version": 3
   },
   "file_extension": ".py",
   "mimetype": "text/x-python",
   "name": "python",
   "nbconvert_exporter": "python",
   "pygments_lexer": "ipython3",
   "version": "3.6.5"
  }
 },
 "nbformat": 4,
 "nbformat_minor": 2
}
